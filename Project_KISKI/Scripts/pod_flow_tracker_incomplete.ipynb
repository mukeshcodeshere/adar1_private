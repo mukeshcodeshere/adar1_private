{
 "cells": [
  {
   "cell_type": "code",
   "execution_count": null,
   "metadata": {
    "vscode": {
     "languageId": "plaintext"
    }
   },
   "outputs": [],
   "source": [
    "import requests\n",
    "import pandas as pd\n",
    "from io import StringIO\n",
    "\n",
    "# Function to fetch 13F filings data for a given CIK (Central Index Key)\n",
    "def fetch_13f_filings(cik):\n",
    "    base_url = \"https://www.sec.gov/Archives/edgar/data/\"\n",
    "    headers = {'User-Agent': 'Your Name (your.email@example.com)'}\n",
    "    \n",
    "    # Construct the URL for the 13F filings index page for the given CIK\n",
    "    index_url = f\"{base_url}{cik}/index.json\"\n",
    "    response = requests.get(index_url, headers=headers)\n",
    "    \n",
    "    if response.status_code == 200:\n",
    "        filings_index = response.json()\n",
    "        # Filter for 13F-HR filings\n",
    "        filings = [f for f in filings_index['directory']['item'] if '13F-HR' in f['name']]\n",
    "        \n",
    "        # Process each filing\n",
    "        for filing in filings:\n",
    "            filing_url = f\"{base_url}{cik}/{filing['name']}\"\n",
    "            filing_response = requests.get(filing_url, headers=headers)\n",
    "            \n",
    "            if filing_response.status_code == 200:\n",
    "                # Assuming the filing is in XML format\n",
    "                try:\n",
    "                    data = pd.read_xml(StringIO(filing_response.text))\n",
    "                    print(data.head())  # Display the first few rows of the dataset\n",
    "                except ValueError as e:\n",
    "                    print(f\"Error parsing XML: {e}\")\n",
    "            else:\n",
    "                print('Failed to retrieve filing data.')\n",
    "    else:\n",
    "        print('Failed to retrieve index data.')\n",
    "\n",
    "# CIK for Citadel Advisors LLC (example CIK)\n",
    "citadel_cik = '0001423053'\n",
    "\n",
    "# Fetch and parse the 13F filings for Citadel Advisors LLC\n",
    "files = fetch_13f_filings(citadel_cik)\n",
    "\n",
    "print(files)"
   ]
  }
 ],
 "metadata": {
  "language_info": {
   "name": "python"
  }
 },
 "nbformat": 4,
 "nbformat_minor": 2
}
